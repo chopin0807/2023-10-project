{
  "nbformat": 4,
  "nbformat_minor": 0,
  "metadata": {
    "colab": {
      "provenance": [],
      "toc_visible": true,
      "mount_file_id": "1bkIpkAY2icd3YdyXnrD2ABQU6d5_paxr",
      "authorship_tag": "ABX9TyPuOjtq+8Op3B0Yh1hBOH5p",
      "include_colab_link": true
    },
    "kernelspec": {
      "name": "python3",
      "display_name": "Python 3"
    },
    "language_info": {
      "name": "python"
    }
  },
  "cells": [
    {
      "cell_type": "markdown",
      "metadata": {
        "id": "view-in-github",
        "colab_type": "text"
      },
      "source": [
        "<a href=\"https://colab.research.google.com/github/chopin0807/2023-10-project/blob/master/Lasso.ipynb\" target=\"_parent\"><img src=\"https://colab.research.google.com/assets/colab-badge.svg\" alt=\"Open In Colab\"/></a>"
      ]
    },
    {
      "cell_type": "markdown",
      "source": [
        "# 데이터 전처리"
      ],
      "metadata": {
        "id": "go0urXDKvGHL"
      }
    },
    {
      "cell_type": "code",
      "source": [
        "import pandas as pd\n",
        "import numpy  as np"
      ],
      "metadata": {
        "id": "FflCc7j_RmMV"
      },
      "execution_count": 1,
      "outputs": []
    },
    {
      "cell_type": "code",
      "source": [
        "# 구글 드라이브 마운트\n",
        "from google.colab import drive\n",
        "drive.mount('/content/drive')"
      ],
      "metadata": {
        "colab": {
          "base_uri": "https://localhost:8080/"
        },
        "id": "dQbq8LWDWgFX",
        "outputId": "a3726540-f973-4935-b66e-32d70e419abc"
      },
      "execution_count": 2,
      "outputs": [
        {
          "output_type": "stream",
          "name": "stdout",
          "text": [
            "Drive already mounted at /content/drive; to attempt to forcibly remount, call drive.mount(\"/content/drive\", force_remount=True).\n"
          ]
        }
      ]
    },
    {
      "cell_type": "code",
      "source": [
        "stock = pd.read_csv('/content/drive/MyDrive/2023년 10월-11월 프로젝트/stock.csv')\n",
        "stock"
      ],
      "metadata": {
        "colab": {
          "base_uri": "https://localhost:8080/",
          "height": 423
        },
        "id": "WWHi3a0dQj10",
        "outputId": "6294d201-fe65-49b0-893d-928fdf9aa226"
      },
      "execution_count": 4,
      "outputs": [
        {
          "output_type": "execute_result",
          "data": {
            "text/plain": [
              "              날짜      종가      시가   전일비      고가      저가      거래량\n",
              "0     2023.11.01   37900   38000  -100   38300   37800   448388\n",
              "1     2023.10.31   37800   38250  -200   38950   37450  1791726\n",
              "2     2023.10.30   38000   37650   250   38400   37600  1290753\n",
              "3     2023.10.27   37750   37650   100   38050   37300  1323041\n",
              "4     2023.10.26   37650   38250 -1300   38500   37400  2073618\n",
              "...          ...     ...     ...   ...     ...     ...      ...\n",
              "1195  2018.12.26   98500   99000 -2500  100500   98000   492532\n",
              "1196  2018.12.24  101000  104500 -3500  104500  100000   320266\n",
              "1197  2018.12.21  104500  102500  1500  104500  101000   429650\n",
              "1198  2018.12.20  103000  107000 -5000  107000  101000   579446\n",
              "1199  2018.12.19  108000  108500  -500  109000  106000   218497\n",
              "\n",
              "[1200 rows x 7 columns]"
            ],
            "text/html": [
              "\n",
              "  <div id=\"df-a4d3dffe-e0b7-4525-8940-b1b31b489b56\" class=\"colab-df-container\">\n",
              "    <div>\n",
              "<style scoped>\n",
              "    .dataframe tbody tr th:only-of-type {\n",
              "        vertical-align: middle;\n",
              "    }\n",
              "\n",
              "    .dataframe tbody tr th {\n",
              "        vertical-align: top;\n",
              "    }\n",
              "\n",
              "    .dataframe thead th {\n",
              "        text-align: right;\n",
              "    }\n",
              "</style>\n",
              "<table border=\"1\" class=\"dataframe\">\n",
              "  <thead>\n",
              "    <tr style=\"text-align: right;\">\n",
              "      <th></th>\n",
              "      <th>날짜</th>\n",
              "      <th>종가</th>\n",
              "      <th>시가</th>\n",
              "      <th>전일비</th>\n",
              "      <th>고가</th>\n",
              "      <th>저가</th>\n",
              "      <th>거래량</th>\n",
              "    </tr>\n",
              "  </thead>\n",
              "  <tbody>\n",
              "    <tr>\n",
              "      <th>0</th>\n",
              "      <td>2023.11.01</td>\n",
              "      <td>37900</td>\n",
              "      <td>38000</td>\n",
              "      <td>-100</td>\n",
              "      <td>38300</td>\n",
              "      <td>37800</td>\n",
              "      <td>448388</td>\n",
              "    </tr>\n",
              "    <tr>\n",
              "      <th>1</th>\n",
              "      <td>2023.10.31</td>\n",
              "      <td>37800</td>\n",
              "      <td>38250</td>\n",
              "      <td>-200</td>\n",
              "      <td>38950</td>\n",
              "      <td>37450</td>\n",
              "      <td>1791726</td>\n",
              "    </tr>\n",
              "    <tr>\n",
              "      <th>2</th>\n",
              "      <td>2023.10.30</td>\n",
              "      <td>38000</td>\n",
              "      <td>37650</td>\n",
              "      <td>250</td>\n",
              "      <td>38400</td>\n",
              "      <td>37600</td>\n",
              "      <td>1290753</td>\n",
              "    </tr>\n",
              "    <tr>\n",
              "      <th>3</th>\n",
              "      <td>2023.10.27</td>\n",
              "      <td>37750</td>\n",
              "      <td>37650</td>\n",
              "      <td>100</td>\n",
              "      <td>38050</td>\n",
              "      <td>37300</td>\n",
              "      <td>1323041</td>\n",
              "    </tr>\n",
              "    <tr>\n",
              "      <th>4</th>\n",
              "      <td>2023.10.26</td>\n",
              "      <td>37650</td>\n",
              "      <td>38250</td>\n",
              "      <td>-1300</td>\n",
              "      <td>38500</td>\n",
              "      <td>37400</td>\n",
              "      <td>2073618</td>\n",
              "    </tr>\n",
              "    <tr>\n",
              "      <th>...</th>\n",
              "      <td>...</td>\n",
              "      <td>...</td>\n",
              "      <td>...</td>\n",
              "      <td>...</td>\n",
              "      <td>...</td>\n",
              "      <td>...</td>\n",
              "      <td>...</td>\n",
              "    </tr>\n",
              "    <tr>\n",
              "      <th>1195</th>\n",
              "      <td>2018.12.26</td>\n",
              "      <td>98500</td>\n",
              "      <td>99000</td>\n",
              "      <td>-2500</td>\n",
              "      <td>100500</td>\n",
              "      <td>98000</td>\n",
              "      <td>492532</td>\n",
              "    </tr>\n",
              "    <tr>\n",
              "      <th>1196</th>\n",
              "      <td>2018.12.24</td>\n",
              "      <td>101000</td>\n",
              "      <td>104500</td>\n",
              "      <td>-3500</td>\n",
              "      <td>104500</td>\n",
              "      <td>100000</td>\n",
              "      <td>320266</td>\n",
              "    </tr>\n",
              "    <tr>\n",
              "      <th>1197</th>\n",
              "      <td>2018.12.21</td>\n",
              "      <td>104500</td>\n",
              "      <td>102500</td>\n",
              "      <td>1500</td>\n",
              "      <td>104500</td>\n",
              "      <td>101000</td>\n",
              "      <td>429650</td>\n",
              "    </tr>\n",
              "    <tr>\n",
              "      <th>1198</th>\n",
              "      <td>2018.12.20</td>\n",
              "      <td>103000</td>\n",
              "      <td>107000</td>\n",
              "      <td>-5000</td>\n",
              "      <td>107000</td>\n",
              "      <td>101000</td>\n",
              "      <td>579446</td>\n",
              "    </tr>\n",
              "    <tr>\n",
              "      <th>1199</th>\n",
              "      <td>2018.12.19</td>\n",
              "      <td>108000</td>\n",
              "      <td>108500</td>\n",
              "      <td>-500</td>\n",
              "      <td>109000</td>\n",
              "      <td>106000</td>\n",
              "      <td>218497</td>\n",
              "    </tr>\n",
              "  </tbody>\n",
              "</table>\n",
              "<p>1200 rows × 7 columns</p>\n",
              "</div>\n",
              "    <div class=\"colab-df-buttons\">\n",
              "\n",
              "  <div class=\"colab-df-container\">\n",
              "    <button class=\"colab-df-convert\" onclick=\"convertToInteractive('df-a4d3dffe-e0b7-4525-8940-b1b31b489b56')\"\n",
              "            title=\"Convert this dataframe to an interactive table.\"\n",
              "            style=\"display:none;\">\n",
              "\n",
              "  <svg xmlns=\"http://www.w3.org/2000/svg\" height=\"24px\" viewBox=\"0 -960 960 960\">\n",
              "    <path d=\"M120-120v-720h720v720H120Zm60-500h600v-160H180v160Zm220 220h160v-160H400v160Zm0 220h160v-160H400v160ZM180-400h160v-160H180v160Zm440 0h160v-160H620v160ZM180-180h160v-160H180v160Zm440 0h160v-160H620v160Z\"/>\n",
              "  </svg>\n",
              "    </button>\n",
              "\n",
              "  <style>\n",
              "    .colab-df-container {\n",
              "      display:flex;\n",
              "      gap: 12px;\n",
              "    }\n",
              "\n",
              "    .colab-df-convert {\n",
              "      background-color: #E8F0FE;\n",
              "      border: none;\n",
              "      border-radius: 50%;\n",
              "      cursor: pointer;\n",
              "      display: none;\n",
              "      fill: #1967D2;\n",
              "      height: 32px;\n",
              "      padding: 0 0 0 0;\n",
              "      width: 32px;\n",
              "    }\n",
              "\n",
              "    .colab-df-convert:hover {\n",
              "      background-color: #E2EBFA;\n",
              "      box-shadow: 0px 1px 2px rgba(60, 64, 67, 0.3), 0px 1px 3px 1px rgba(60, 64, 67, 0.15);\n",
              "      fill: #174EA6;\n",
              "    }\n",
              "\n",
              "    .colab-df-buttons div {\n",
              "      margin-bottom: 4px;\n",
              "    }\n",
              "\n",
              "    [theme=dark] .colab-df-convert {\n",
              "      background-color: #3B4455;\n",
              "      fill: #D2E3FC;\n",
              "    }\n",
              "\n",
              "    [theme=dark] .colab-df-convert:hover {\n",
              "      background-color: #434B5C;\n",
              "      box-shadow: 0px 1px 3px 1px rgba(0, 0, 0, 0.15);\n",
              "      filter: drop-shadow(0px 1px 2px rgba(0, 0, 0, 0.3));\n",
              "      fill: #FFFFFF;\n",
              "    }\n",
              "  </style>\n",
              "\n",
              "    <script>\n",
              "      const buttonEl =\n",
              "        document.querySelector('#df-a4d3dffe-e0b7-4525-8940-b1b31b489b56 button.colab-df-convert');\n",
              "      buttonEl.style.display =\n",
              "        google.colab.kernel.accessAllowed ? 'block' : 'none';\n",
              "\n",
              "      async function convertToInteractive(key) {\n",
              "        const element = document.querySelector('#df-a4d3dffe-e0b7-4525-8940-b1b31b489b56');\n",
              "        const dataTable =\n",
              "          await google.colab.kernel.invokeFunction('convertToInteractive',\n",
              "                                                    [key], {});\n",
              "        if (!dataTable) return;\n",
              "\n",
              "        const docLinkHtml = 'Like what you see? Visit the ' +\n",
              "          '<a target=\"_blank\" href=https://colab.research.google.com/notebooks/data_table.ipynb>data table notebook</a>'\n",
              "          + ' to learn more about interactive tables.';\n",
              "        element.innerHTML = '';\n",
              "        dataTable['output_type'] = 'display_data';\n",
              "        await google.colab.output.renderOutput(dataTable, element);\n",
              "        const docLink = document.createElement('div');\n",
              "        docLink.innerHTML = docLinkHtml;\n",
              "        element.appendChild(docLink);\n",
              "      }\n",
              "    </script>\n",
              "  </div>\n",
              "\n",
              "\n",
              "<div id=\"df-dc6870e6-aa72-4816-94f8-b52a275e3d9b\">\n",
              "  <button class=\"colab-df-quickchart\" onclick=\"quickchart('df-dc6870e6-aa72-4816-94f8-b52a275e3d9b')\"\n",
              "            title=\"Suggest charts.\"\n",
              "            style=\"display:none;\">\n",
              "\n",
              "<svg xmlns=\"http://www.w3.org/2000/svg\" height=\"24px\"viewBox=\"0 0 24 24\"\n",
              "     width=\"24px\">\n",
              "    <g>\n",
              "        <path d=\"M19 3H5c-1.1 0-2 .9-2 2v14c0 1.1.9 2 2 2h14c1.1 0 2-.9 2-2V5c0-1.1-.9-2-2-2zM9 17H7v-7h2v7zm4 0h-2V7h2v10zm4 0h-2v-4h2v4z\"/>\n",
              "    </g>\n",
              "</svg>\n",
              "  </button>\n",
              "\n",
              "<style>\n",
              "  .colab-df-quickchart {\n",
              "      --bg-color: #E8F0FE;\n",
              "      --fill-color: #1967D2;\n",
              "      --hover-bg-color: #E2EBFA;\n",
              "      --hover-fill-color: #174EA6;\n",
              "      --disabled-fill-color: #AAA;\n",
              "      --disabled-bg-color: #DDD;\n",
              "  }\n",
              "\n",
              "  [theme=dark] .colab-df-quickchart {\n",
              "      --bg-color: #3B4455;\n",
              "      --fill-color: #D2E3FC;\n",
              "      --hover-bg-color: #434B5C;\n",
              "      --hover-fill-color: #FFFFFF;\n",
              "      --disabled-bg-color: #3B4455;\n",
              "      --disabled-fill-color: #666;\n",
              "  }\n",
              "\n",
              "  .colab-df-quickchart {\n",
              "    background-color: var(--bg-color);\n",
              "    border: none;\n",
              "    border-radius: 50%;\n",
              "    cursor: pointer;\n",
              "    display: none;\n",
              "    fill: var(--fill-color);\n",
              "    height: 32px;\n",
              "    padding: 0;\n",
              "    width: 32px;\n",
              "  }\n",
              "\n",
              "  .colab-df-quickchart:hover {\n",
              "    background-color: var(--hover-bg-color);\n",
              "    box-shadow: 0 1px 2px rgba(60, 64, 67, 0.3), 0 1px 3px 1px rgba(60, 64, 67, 0.15);\n",
              "    fill: var(--button-hover-fill-color);\n",
              "  }\n",
              "\n",
              "  .colab-df-quickchart-complete:disabled,\n",
              "  .colab-df-quickchart-complete:disabled:hover {\n",
              "    background-color: var(--disabled-bg-color);\n",
              "    fill: var(--disabled-fill-color);\n",
              "    box-shadow: none;\n",
              "  }\n",
              "\n",
              "  .colab-df-spinner {\n",
              "    border: 2px solid var(--fill-color);\n",
              "    border-color: transparent;\n",
              "    border-bottom-color: var(--fill-color);\n",
              "    animation:\n",
              "      spin 1s steps(1) infinite;\n",
              "  }\n",
              "\n",
              "  @keyframes spin {\n",
              "    0% {\n",
              "      border-color: transparent;\n",
              "      border-bottom-color: var(--fill-color);\n",
              "      border-left-color: var(--fill-color);\n",
              "    }\n",
              "    20% {\n",
              "      border-color: transparent;\n",
              "      border-left-color: var(--fill-color);\n",
              "      border-top-color: var(--fill-color);\n",
              "    }\n",
              "    30% {\n",
              "      border-color: transparent;\n",
              "      border-left-color: var(--fill-color);\n",
              "      border-top-color: var(--fill-color);\n",
              "      border-right-color: var(--fill-color);\n",
              "    }\n",
              "    40% {\n",
              "      border-color: transparent;\n",
              "      border-right-color: var(--fill-color);\n",
              "      border-top-color: var(--fill-color);\n",
              "    }\n",
              "    60% {\n",
              "      border-color: transparent;\n",
              "      border-right-color: var(--fill-color);\n",
              "    }\n",
              "    80% {\n",
              "      border-color: transparent;\n",
              "      border-right-color: var(--fill-color);\n",
              "      border-bottom-color: var(--fill-color);\n",
              "    }\n",
              "    90% {\n",
              "      border-color: transparent;\n",
              "      border-bottom-color: var(--fill-color);\n",
              "    }\n",
              "  }\n",
              "</style>\n",
              "\n",
              "  <script>\n",
              "    async function quickchart(key) {\n",
              "      const quickchartButtonEl =\n",
              "        document.querySelector('#' + key + ' button');\n",
              "      quickchartButtonEl.disabled = true;  // To prevent multiple clicks.\n",
              "      quickchartButtonEl.classList.add('colab-df-spinner');\n",
              "      try {\n",
              "        const charts = await google.colab.kernel.invokeFunction(\n",
              "            'suggestCharts', [key], {});\n",
              "      } catch (error) {\n",
              "        console.error('Error during call to suggestCharts:', error);\n",
              "      }\n",
              "      quickchartButtonEl.classList.remove('colab-df-spinner');\n",
              "      quickchartButtonEl.classList.add('colab-df-quickchart-complete');\n",
              "    }\n",
              "    (() => {\n",
              "      let quickchartButtonEl =\n",
              "        document.querySelector('#df-dc6870e6-aa72-4816-94f8-b52a275e3d9b button');\n",
              "      quickchartButtonEl.style.display =\n",
              "        google.colab.kernel.accessAllowed ? 'block' : 'none';\n",
              "    })();\n",
              "  </script>\n",
              "</div>\n",
              "    </div>\n",
              "  </div>\n"
            ]
          },
          "metadata": {},
          "execution_count": 4
        }
      ]
    },
    {
      "cell_type": "code",
      "source": [
        "stock = stock.rename(columns={'날짜':'date'})"
      ],
      "metadata": {
        "id": "1G0-VSnIkMDQ"
      },
      "execution_count": 5,
      "outputs": []
    },
    {
      "cell_type": "code",
      "source": [
        "stock.info()"
      ],
      "metadata": {
        "colab": {
          "base_uri": "https://localhost:8080/"
        },
        "id": "p9l3XmRukgL9",
        "outputId": "35e1e601-ef77-4d8d-f04b-20af858f7b14"
      },
      "execution_count": 6,
      "outputs": [
        {
          "output_type": "stream",
          "name": "stdout",
          "text": [
            "<class 'pandas.core.frame.DataFrame'>\n",
            "RangeIndex: 1200 entries, 0 to 1199\n",
            "Data columns (total 7 columns):\n",
            " #   Column  Non-Null Count  Dtype \n",
            "---  ------  --------------  ----- \n",
            " 0   date    1200 non-null   object\n",
            " 1   종가      1200 non-null   int64 \n",
            " 2   시가      1200 non-null   int64 \n",
            " 3   전일비     1200 non-null   int64 \n",
            " 4   고가      1200 non-null   int64 \n",
            " 5   저가      1200 non-null   int64 \n",
            " 6   거래량     1200 non-null   int64 \n",
            "dtypes: int64(6), object(1)\n",
            "memory usage: 65.8+ KB\n"
          ]
        }
      ]
    },
    {
      "cell_type": "code",
      "source": [
        "stock['date'] = pd.to_datetime(stock['date'])"
      ],
      "metadata": {
        "id": "m5fiyEQdkvIL"
      },
      "execution_count": 7,
      "outputs": []
    },
    {
      "cell_type": "code",
      "source": [
        "stock.info()"
      ],
      "metadata": {
        "colab": {
          "base_uri": "https://localhost:8080/"
        },
        "id": "4ZQXVYnmk2dJ",
        "outputId": "d508a17a-7b14-49d0-fd03-c83d67d5f608"
      },
      "execution_count": 8,
      "outputs": [
        {
          "output_type": "stream",
          "name": "stdout",
          "text": [
            "<class 'pandas.core.frame.DataFrame'>\n",
            "RangeIndex: 1200 entries, 0 to 1199\n",
            "Data columns (total 7 columns):\n",
            " #   Column  Non-Null Count  Dtype         \n",
            "---  ------  --------------  -----         \n",
            " 0   date    1200 non-null   datetime64[ns]\n",
            " 1   종가      1200 non-null   int64         \n",
            " 2   시가      1200 non-null   int64         \n",
            " 3   전일비     1200 non-null   int64         \n",
            " 4   고가      1200 non-null   int64         \n",
            " 5   저가      1200 non-null   int64         \n",
            " 6   거래량     1200 non-null   int64         \n",
            "dtypes: datetime64[ns](1), int64(6)\n",
            "memory usage: 65.8 KB\n"
          ]
        }
      ]
    },
    {
      "cell_type": "code",
      "source": [
        "# news_2019 = pd.read_csv('/content/drive/MyDrive/02_대학생/05_대외활동/230828_SeSAC_핀테크데이터분석가과정/2023년 10월-11월 프로젝트/카카오 기사데이터/요청데이터/카카오_2019-01-01_2019-12-31.csv')\n",
        "# news_2020 = pd.read_csv('/content/drive/MyDrive/02_대학생/05_대외활동/230828_SeSAC_핀테크데이터분석가과정/2023년 10월-11월 프로젝트/카카오 기사데이터/요청데이터/카카오_2020-01-01_2020-12-31.csv')\n",
        "# news_2021 = pd.read_csv('/content/drive/MyDrive/02_대학생/05_대외활동/230828_SeSAC_핀테크데이터분석가과정/2023년 10월-11월 프로젝트/카카오 기사데이터/요청데이터/카카오_2021-01-01_2021-12-31.csv')\n",
        "# news_2022 = pd.read_csv('/content/drive/MyDrive/02_대학생/05_대외활동/230828_SeSAC_핀테크데이터분석가과정/2023년 10월-11월 프로젝트/카카오 기사데이터/요청데이터/카카오_2022-01-01_2022-12-31.csv')\n",
        "# news_2023 = pd.read_csv('/content/drive/MyDrive/02_대학생/05_대외활동/230828_SeSAC_핀테크데이터분석가과정/2023년 10월-11월 프로젝트/카카오 기사데이터/요청데이터/카카오_2023-01-01_2023-10-24.csv')"
      ],
      "metadata": {
        "id": "6EFY4_5bMbAy"
      },
      "execution_count": null,
      "outputs": []
    },
    {
      "cell_type": "code",
      "source": [
        "# news = pd.concat([news_2019, news_2020, news_2021, news_2022, news_2023], axis=0)\n",
        "# news.head(1)"
      ],
      "metadata": {
        "id": "EZtybvhRGvTN"
      },
      "execution_count": null,
      "outputs": []
    },
    {
      "cell_type": "code",
      "source": [
        "news['date'] = pd.to_datetime(news['date'])\n",
        "news['date'] = news['date'].dt.date\n",
        "news['date'] = pd.to_datetime(news['date'])\n",
        "news.info()"
      ],
      "metadata": {
        "id": "ROOo1eTMlIby"
      },
      "execution_count": null,
      "outputs": []
    },
    {
      "cell_type": "code",
      "source": [
        "df = pd.merge(news.groupby('date').count(), stock, how = 'inner', on = 'date')\n",
        "df.head()"
      ],
      "metadata": {
        "id": "OtPBp5REjJkc"
      },
      "execution_count": null,
      "outputs": []
    },
    {
      "cell_type": "code",
      "source": [
        "X = df['content'].tolist()\n",
        "len(X)"
      ],
      "metadata": {
        "id": "mlnJVetTZcdR"
      },
      "execution_count": null,
      "outputs": []
    },
    {
      "cell_type": "code",
      "source": [
        "import numpy as np\n",
        "X = np.array(X).reshape(-1,1)"
      ],
      "metadata": {
        "id": "J0awnCw5Zw0T"
      },
      "execution_count": 18,
      "outputs": []
    },
    {
      "cell_type": "code",
      "source": [
        "stock_2023 = stock[stock['date'].dt.year==2023]\n",
        "stock_2023.head(1)"
      ],
      "metadata": {
        "colab": {
          "base_uri": "https://localhost:8080/",
          "height": 81
        },
        "id": "3Lw3opuQbPB9",
        "outputId": "f9f55ba5-28fb-4e29-9c17-6ba3735ac2a8"
      },
      "execution_count": 29,
      "outputs": [
        {
          "output_type": "execute_result",
          "data": {
            "text/plain": [
              "        date     종가     시가  전일비     고가     저가     거래량\n",
              "0 2023-11-01  37900  38000 -100  38300  37800  448388"
            ],
            "text/html": [
              "\n",
              "  <div id=\"df-502d8b26-580d-43fc-b284-76d0ee0d8451\" class=\"colab-df-container\">\n",
              "    <div>\n",
              "<style scoped>\n",
              "    .dataframe tbody tr th:only-of-type {\n",
              "        vertical-align: middle;\n",
              "    }\n",
              "\n",
              "    .dataframe tbody tr th {\n",
              "        vertical-align: top;\n",
              "    }\n",
              "\n",
              "    .dataframe thead th {\n",
              "        text-align: right;\n",
              "    }\n",
              "</style>\n",
              "<table border=\"1\" class=\"dataframe\">\n",
              "  <thead>\n",
              "    <tr style=\"text-align: right;\">\n",
              "      <th></th>\n",
              "      <th>date</th>\n",
              "      <th>종가</th>\n",
              "      <th>시가</th>\n",
              "      <th>전일비</th>\n",
              "      <th>고가</th>\n",
              "      <th>저가</th>\n",
              "      <th>거래량</th>\n",
              "    </tr>\n",
              "  </thead>\n",
              "  <tbody>\n",
              "    <tr>\n",
              "      <th>0</th>\n",
              "      <td>2023-11-01</td>\n",
              "      <td>37900</td>\n",
              "      <td>38000</td>\n",
              "      <td>-100</td>\n",
              "      <td>38300</td>\n",
              "      <td>37800</td>\n",
              "      <td>448388</td>\n",
              "    </tr>\n",
              "  </tbody>\n",
              "</table>\n",
              "</div>\n",
              "    <div class=\"colab-df-buttons\">\n",
              "\n",
              "  <div class=\"colab-df-container\">\n",
              "    <button class=\"colab-df-convert\" onclick=\"convertToInteractive('df-502d8b26-580d-43fc-b284-76d0ee0d8451')\"\n",
              "            title=\"Convert this dataframe to an interactive table.\"\n",
              "            style=\"display:none;\">\n",
              "\n",
              "  <svg xmlns=\"http://www.w3.org/2000/svg\" height=\"24px\" viewBox=\"0 -960 960 960\">\n",
              "    <path d=\"M120-120v-720h720v720H120Zm60-500h600v-160H180v160Zm220 220h160v-160H400v160Zm0 220h160v-160H400v160ZM180-400h160v-160H180v160Zm440 0h160v-160H620v160ZM180-180h160v-160H180v160Zm440 0h160v-160H620v160Z\"/>\n",
              "  </svg>\n",
              "    </button>\n",
              "\n",
              "  <style>\n",
              "    .colab-df-container {\n",
              "      display:flex;\n",
              "      gap: 12px;\n",
              "    }\n",
              "\n",
              "    .colab-df-convert {\n",
              "      background-color: #E8F0FE;\n",
              "      border: none;\n",
              "      border-radius: 50%;\n",
              "      cursor: pointer;\n",
              "      display: none;\n",
              "      fill: #1967D2;\n",
              "      height: 32px;\n",
              "      padding: 0 0 0 0;\n",
              "      width: 32px;\n",
              "    }\n",
              "\n",
              "    .colab-df-convert:hover {\n",
              "      background-color: #E2EBFA;\n",
              "      box-shadow: 0px 1px 2px rgba(60, 64, 67, 0.3), 0px 1px 3px 1px rgba(60, 64, 67, 0.15);\n",
              "      fill: #174EA6;\n",
              "    }\n",
              "\n",
              "    .colab-df-buttons div {\n",
              "      margin-bottom: 4px;\n",
              "    }\n",
              "\n",
              "    [theme=dark] .colab-df-convert {\n",
              "      background-color: #3B4455;\n",
              "      fill: #D2E3FC;\n",
              "    }\n",
              "\n",
              "    [theme=dark] .colab-df-convert:hover {\n",
              "      background-color: #434B5C;\n",
              "      box-shadow: 0px 1px 3px 1px rgba(0, 0, 0, 0.15);\n",
              "      filter: drop-shadow(0px 1px 2px rgba(0, 0, 0, 0.3));\n",
              "      fill: #FFFFFF;\n",
              "    }\n",
              "  </style>\n",
              "\n",
              "    <script>\n",
              "      const buttonEl =\n",
              "        document.querySelector('#df-502d8b26-580d-43fc-b284-76d0ee0d8451 button.colab-df-convert');\n",
              "      buttonEl.style.display =\n",
              "        google.colab.kernel.accessAllowed ? 'block' : 'none';\n",
              "\n",
              "      async function convertToInteractive(key) {\n",
              "        const element = document.querySelector('#df-502d8b26-580d-43fc-b284-76d0ee0d8451');\n",
              "        const dataTable =\n",
              "          await google.colab.kernel.invokeFunction('convertToInteractive',\n",
              "                                                    [key], {});\n",
              "        if (!dataTable) return;\n",
              "\n",
              "        const docLinkHtml = 'Like what you see? Visit the ' +\n",
              "          '<a target=\"_blank\" href=https://colab.research.google.com/notebooks/data_table.ipynb>data table notebook</a>'\n",
              "          + ' to learn more about interactive tables.';\n",
              "        element.innerHTML = '';\n",
              "        dataTable['output_type'] = 'display_data';\n",
              "        await google.colab.output.renderOutput(dataTable, element);\n",
              "        const docLink = document.createElement('div');\n",
              "        docLink.innerHTML = docLinkHtml;\n",
              "        element.appendChild(docLink);\n",
              "      }\n",
              "    </script>\n",
              "  </div>\n",
              "\n",
              "    </div>\n",
              "  </div>\n"
            ]
          },
          "metadata": {},
          "execution_count": 29
        }
      ]
    },
    {
      "cell_type": "code",
      "source": [
        "y = stock_2023['거래량'].tolist()\n",
        "len(y)"
      ],
      "metadata": {
        "colab": {
          "base_uri": "https://localhost:8080/"
        },
        "id": "A89j--RHspdM",
        "outputId": "21d40e67-cf09-4fc0-e7f3-5295232fe352"
      },
      "execution_count": 30,
      "outputs": [
        {
          "output_type": "execute_result",
          "data": {
            "text/plain": [
              "205"
            ]
          },
          "metadata": {},
          "execution_count": 30
        }
      ]
    },
    {
      "cell_type": "code",
      "source": [
        "y = np.array(y).reshape(-1,1)"
      ],
      "metadata": {
        "id": "idWYz5oOa1Ta"
      },
      "execution_count": null,
      "outputs": []
    },
    {
      "cell_type": "code",
      "source": [
        "news_2023 = pd.read_csv('/content/drive/MyDrive/2023년 10월-11월 프로젝트/LDA모델 적용/news_2023.csv')\n",
        "news_2023.head(1)"
      ],
      "metadata": {
        "colab": {
          "base_uri": "https://localhost:8080/",
          "height": 153
        },
        "id": "3V0VqlwmZurp",
        "outputId": "a71fadca-3953-41d0-a8c0-d6a396c77fab"
      },
      "execution_count": 12,
      "outputs": [
        {
          "output_type": "execute_result",
          "data": {
            "text/plain": [
              "                  date                                                url  \\\n",
              "0  2023-01-01T06:00:00  https://n.news.naver.com/mnews/article/421/000...   \n",
              "\n",
              "                                      tokenize_title  \\\n",
              "0  ['새해', '달라지는', '들', '카카오', '먹통', '방지법', '시행', ...   \n",
              "\n",
              "                                    tokenize_content  topic(title)  \\\n",
              "0  ['데이터', '센터', '다중화', '의무', '콘텐츠', '세액', '공제', ...           1.0   \n",
              "\n",
              "   topic_details(title)  topic(content)  topic_details(content)  \n",
              "0               0.76633             1.0                0.373403  "
            ],
            "text/html": [
              "\n",
              "  <div id=\"df-c52b1b4c-283f-4756-97b1-45085db921af\" class=\"colab-df-container\">\n",
              "    <div>\n",
              "<style scoped>\n",
              "    .dataframe tbody tr th:only-of-type {\n",
              "        vertical-align: middle;\n",
              "    }\n",
              "\n",
              "    .dataframe tbody tr th {\n",
              "        vertical-align: top;\n",
              "    }\n",
              "\n",
              "    .dataframe thead th {\n",
              "        text-align: right;\n",
              "    }\n",
              "</style>\n",
              "<table border=\"1\" class=\"dataframe\">\n",
              "  <thead>\n",
              "    <tr style=\"text-align: right;\">\n",
              "      <th></th>\n",
              "      <th>date</th>\n",
              "      <th>url</th>\n",
              "      <th>tokenize_title</th>\n",
              "      <th>tokenize_content</th>\n",
              "      <th>topic(title)</th>\n",
              "      <th>topic_details(title)</th>\n",
              "      <th>topic(content)</th>\n",
              "      <th>topic_details(content)</th>\n",
              "    </tr>\n",
              "  </thead>\n",
              "  <tbody>\n",
              "    <tr>\n",
              "      <th>0</th>\n",
              "      <td>2023-01-01T06:00:00</td>\n",
              "      <td>https://n.news.naver.com/mnews/article/421/000...</td>\n",
              "      <td>['새해', '달라지는', '들', '카카오', '먹통', '방지법', '시행', ...</td>\n",
              "      <td>['데이터', '센터', '다중화', '의무', '콘텐츠', '세액', '공제', ...</td>\n",
              "      <td>1.0</td>\n",
              "      <td>0.76633</td>\n",
              "      <td>1.0</td>\n",
              "      <td>0.373403</td>\n",
              "    </tr>\n",
              "  </tbody>\n",
              "</table>\n",
              "</div>\n",
              "    <div class=\"colab-df-buttons\">\n",
              "\n",
              "  <div class=\"colab-df-container\">\n",
              "    <button class=\"colab-df-convert\" onclick=\"convertToInteractive('df-c52b1b4c-283f-4756-97b1-45085db921af')\"\n",
              "            title=\"Convert this dataframe to an interactive table.\"\n",
              "            style=\"display:none;\">\n",
              "\n",
              "  <svg xmlns=\"http://www.w3.org/2000/svg\" height=\"24px\" viewBox=\"0 -960 960 960\">\n",
              "    <path d=\"M120-120v-720h720v720H120Zm60-500h600v-160H180v160Zm220 220h160v-160H400v160Zm0 220h160v-160H400v160ZM180-400h160v-160H180v160Zm440 0h160v-160H620v160ZM180-180h160v-160H180v160Zm440 0h160v-160H620v160Z\"/>\n",
              "  </svg>\n",
              "    </button>\n",
              "\n",
              "  <style>\n",
              "    .colab-df-container {\n",
              "      display:flex;\n",
              "      gap: 12px;\n",
              "    }\n",
              "\n",
              "    .colab-df-convert {\n",
              "      background-color: #E8F0FE;\n",
              "      border: none;\n",
              "      border-radius: 50%;\n",
              "      cursor: pointer;\n",
              "      display: none;\n",
              "      fill: #1967D2;\n",
              "      height: 32px;\n",
              "      padding: 0 0 0 0;\n",
              "      width: 32px;\n",
              "    }\n",
              "\n",
              "    .colab-df-convert:hover {\n",
              "      background-color: #E2EBFA;\n",
              "      box-shadow: 0px 1px 2px rgba(60, 64, 67, 0.3), 0px 1px 3px 1px rgba(60, 64, 67, 0.15);\n",
              "      fill: #174EA6;\n",
              "    }\n",
              "\n",
              "    .colab-df-buttons div {\n",
              "      margin-bottom: 4px;\n",
              "    }\n",
              "\n",
              "    [theme=dark] .colab-df-convert {\n",
              "      background-color: #3B4455;\n",
              "      fill: #D2E3FC;\n",
              "    }\n",
              "\n",
              "    [theme=dark] .colab-df-convert:hover {\n",
              "      background-color: #434B5C;\n",
              "      box-shadow: 0px 1px 3px 1px rgba(0, 0, 0, 0.15);\n",
              "      filter: drop-shadow(0px 1px 2px rgba(0, 0, 0, 0.3));\n",
              "      fill: #FFFFFF;\n",
              "    }\n",
              "  </style>\n",
              "\n",
              "    <script>\n",
              "      const buttonEl =\n",
              "        document.querySelector('#df-c52b1b4c-283f-4756-97b1-45085db921af button.colab-df-convert');\n",
              "      buttonEl.style.display =\n",
              "        google.colab.kernel.accessAllowed ? 'block' : 'none';\n",
              "\n",
              "      async function convertToInteractive(key) {\n",
              "        const element = document.querySelector('#df-c52b1b4c-283f-4756-97b1-45085db921af');\n",
              "        const dataTable =\n",
              "          await google.colab.kernel.invokeFunction('convertToInteractive',\n",
              "                                                    [key], {});\n",
              "        if (!dataTable) return;\n",
              "\n",
              "        const docLinkHtml = 'Like what you see? Visit the ' +\n",
              "          '<a target=\"_blank\" href=https://colab.research.google.com/notebooks/data_table.ipynb>data table notebook</a>'\n",
              "          + ' to learn more about interactive tables.';\n",
              "        element.innerHTML = '';\n",
              "        dataTable['output_type'] = 'display_data';\n",
              "        await google.colab.output.renderOutput(dataTable, element);\n",
              "        const docLink = document.createElement('div');\n",
              "        docLink.innerHTML = docLinkHtml;\n",
              "        element.appendChild(docLink);\n",
              "      }\n",
              "    </script>\n",
              "  </div>\n",
              "\n",
              "    </div>\n",
              "  </div>\n"
            ]
          },
          "metadata": {},
          "execution_count": 12
        }
      ]
    },
    {
      "cell_type": "code",
      "source": [
        "X = news_2023['topic(content)'].tolist()\n",
        "len(X)"
      ],
      "metadata": {
        "colab": {
          "base_uri": "https://localhost:8080/"
        },
        "id": "klELGF5WaVtC",
        "outputId": "89ad2e23-17b8-48f5-f217-1dc5c49be0d9"
      },
      "execution_count": 31,
      "outputs": [
        {
          "output_type": "execute_result",
          "data": {
            "text/plain": [
              "5605"
            ]
          },
          "metadata": {},
          "execution_count": 31
        }
      ]
    },
    {
      "cell_type": "markdown",
      "source": [
        "# 표준화"
      ],
      "metadata": {
        "id": "RZ1Zpu7ecTa4"
      }
    },
    {
      "cell_type": "code",
      "source": [
        "# 표준화하기 위해 StandardScaler 사용\n",
        "from sklearn.preprocessing import StandardScaler"
      ],
      "metadata": {
        "id": "a0PeP2WPcbwK"
      },
      "execution_count": 16,
      "outputs": []
    },
    {
      "cell_type": "code",
      "source": [
        "# X 표준화\n",
        "scaler = StandardScaler()\n",
        "scaler.fit(X)\n",
        "X_standardized = scaler.transform(X)\n",
        "X_standardized = scaler.fit_transform(X)"
      ],
      "metadata": {
        "id": "IG0m-Sevct7S"
      },
      "execution_count": 19,
      "outputs": []
    },
    {
      "cell_type": "code",
      "source": [
        "# y 표준화\n",
        "scaler = StandardScaler()\n",
        "scaler.fit(y)\n",
        "y_standardized = scaler.transform(y)\n",
        "y_standardized = scaler.fit_transform(y)"
      ],
      "metadata": {
        "id": "iHxRV0AGc85i",
        "colab": {
          "base_uri": "https://localhost:8080/",
          "height": 256
        },
        "outputId": "4214063f-5df7-4544-af96-62877134cc79"
      },
      "execution_count": 22,
      "outputs": [
        {
          "output_type": "error",
          "ename": "NameError",
          "evalue": "ignored",
          "traceback": [
            "\u001b[0;31m---------------------------------------------------------------------------\u001b[0m",
            "\u001b[0;31mNameError\u001b[0m                                 Traceback (most recent call last)",
            "\u001b[0;32m<ipython-input-22-206bc3905bd8>\u001b[0m in \u001b[0;36m<cell line: 3>\u001b[0;34m()\u001b[0m\n\u001b[1;32m      1\u001b[0m \u001b[0;31m# y 표준화\u001b[0m\u001b[0;34m\u001b[0m\u001b[0;34m\u001b[0m\u001b[0m\n\u001b[1;32m      2\u001b[0m \u001b[0mscaler\u001b[0m \u001b[0;34m=\u001b[0m \u001b[0mStandardScaler\u001b[0m\u001b[0;34m(\u001b[0m\u001b[0;34m)\u001b[0m\u001b[0;34m\u001b[0m\u001b[0;34m\u001b[0m\u001b[0m\n\u001b[0;32m----> 3\u001b[0;31m \u001b[0mscaler\u001b[0m\u001b[0;34m.\u001b[0m\u001b[0mfit\u001b[0m\u001b[0;34m(\u001b[0m\u001b[0my\u001b[0m\u001b[0;34m)\u001b[0m\u001b[0;34m\u001b[0m\u001b[0;34m\u001b[0m\u001b[0m\n\u001b[0m\u001b[1;32m      4\u001b[0m \u001b[0my_standardized\u001b[0m \u001b[0;34m=\u001b[0m \u001b[0mscaler\u001b[0m\u001b[0;34m.\u001b[0m\u001b[0mtransform\u001b[0m\u001b[0;34m(\u001b[0m\u001b[0my\u001b[0m\u001b[0;34m)\u001b[0m\u001b[0;34m\u001b[0m\u001b[0;34m\u001b[0m\u001b[0m\n\u001b[1;32m      5\u001b[0m \u001b[0my_standardized\u001b[0m \u001b[0;34m=\u001b[0m \u001b[0mscaler\u001b[0m\u001b[0;34m.\u001b[0m\u001b[0mfit_transform\u001b[0m\u001b[0;34m(\u001b[0m\u001b[0my\u001b[0m\u001b[0;34m)\u001b[0m\u001b[0;34m\u001b[0m\u001b[0;34m\u001b[0m\u001b[0m\n",
            "\u001b[0;31mNameError\u001b[0m: name 'y' is not defined"
          ]
        }
      ]
    },
    {
      "cell_type": "markdown",
      "source": [
        "# LassoCV\n",
        "LassoCV 함수는 교차 검증을 통해 최적의 alpha 값을 찾아줍니다."
      ],
      "metadata": {
        "id": "HnIcUJ-9vCky"
      }
    },
    {
      "cell_type": "markdown",
      "source": [
        "- sklearn에 LassoCV, Lasso가 있음\n",
        "- LassoCV로 알파값을 추출하고\n",
        "- 추출한 알파값을 Lasso에 넣기"
      ],
      "metadata": {
        "id": "4iyaEH6KwGBG"
      }
    },
    {
      "cell_type": "code",
      "source": [
        "from sklearn.linear_model import LassoCV"
      ],
      "metadata": {
        "id": "-GNZT-VVUX2v"
      },
      "execution_count": 20,
      "outputs": []
    },
    {
      "cell_type": "code",
      "source": [
        "lasso_cv = LassoCV(alphas=[0.1, 1.0, 10.0], cv=5)"
      ],
      "metadata": {
        "id": "wDUOph_JXAst"
      },
      "execution_count": 21,
      "outputs": []
    },
    {
      "cell_type": "code",
      "source": [
        "lasso_cv.fit(X_standardized, y_standardized)"
      ],
      "metadata": {
        "id": "gzTLm9GzX1eo"
      },
      "execution_count": null,
      "outputs": []
    },
    {
      "cell_type": "code",
      "source": [
        "best_alpha = lasso_cv.alpha_\n",
        "print(\"최적의 alpha:\", best_alpha)"
      ],
      "metadata": {
        "id": "pUdoQ8U9Y33m"
      },
      "execution_count": null,
      "outputs": []
    },
    {
      "cell_type": "code",
      "source": [
        "best_lasso_model = lasso_cv"
      ],
      "metadata": {
        "id": "_Nk-mi6GbEoE"
      },
      "execution_count": null,
      "outputs": []
    },
    {
      "cell_type": "markdown",
      "source": [
        "# Lasso\n",
        "- scikit-learn에서 Lasso 회귀를 수행하기 위해 Lasso 클래스를 사용\n",
        "- Lasso 회귀는 L1 정규화를 적용한 선형 회귀 모델\n",
        "- Lasso 클래스를 사용하면 Lasso 회귀 모델을 간단히 만들고 데이터에 맞출 수 있음\n",
        "- alpha 매개변수를 조절하여 L1 정규화의 강도를 변경할 수 있으며, 모델을 학습시킨 후 계수를 검사하여 어떤 특성이 중요한지 확인할 수 있음"
      ],
      "metadata": {
        "id": "ll-UfwYnbGeQ"
      }
    },
    {
      "cell_type": "code",
      "source": [
        "from sklearn.linear_model import Lasso"
      ],
      "metadata": {
        "id": "Q3CNCoR3bjj9"
      },
      "execution_count": null,
      "outputs": []
    },
    {
      "cell_type": "code",
      "source": [
        "lasso_model = Lasso(alpha=0.1)"
      ],
      "metadata": {
        "id": "ZcxePVG-bqSk"
      },
      "execution_count": null,
      "outputs": []
    },
    {
      "cell_type": "code",
      "source": [
        "lasso_model.fit(X_standardized, y_standardized)"
      ],
      "metadata": {
        "id": "YFFTbo6IbsY1"
      },
      "execution_count": null,
      "outputs": []
    },
    {
      "cell_type": "code",
      "source": [
        "y_pred = lasso_model.predict(X_standardized)\n",
        "y_pred"
      ],
      "metadata": {
        "id": "FusLeGpEbufc"
      },
      "execution_count": null,
      "outputs": []
    },
    {
      "cell_type": "code",
      "source": [
        "# 표준화한 값을 다시 복원함\n",
        "y_original = scaler.inverse_transform(y_standardized)\n",
        "y_original"
      ],
      "metadata": {
        "id": "r78HMjeRewom"
      },
      "execution_count": null,
      "outputs": []
    },
    {
      "cell_type": "code",
      "source": [
        "len(y_original)"
      ],
      "metadata": {
        "id": "H_AffKqcfYiY"
      },
      "execution_count": null,
      "outputs": []
    },
    {
      "cell_type": "code",
      "source": [
        "coefficients = lasso_model.coef_\n",
        "coefficients"
      ],
      "metadata": {
        "id": "TnPmUENAbwSy"
      },
      "execution_count": null,
      "outputs": []
    },
    {
      "cell_type": "markdown",
      "source": [
        "# peak day 계산"
      ],
      "metadata": {
        "id": "NKNNxbUcBQsD"
      }
    },
    {
      "cell_type": "markdown",
      "source": [
        "## 거래량 그래프 찍어보기"
      ],
      "metadata": {
        "id": "_eCDulgAC4dy"
      }
    },
    {
      "cell_type": "code",
      "source": [
        "import matplotlib.pyplot as plt\n",
        "\n",
        "plt.figure(figsize=(10, 6))  # 그래프 크기 설정\n",
        "plt.plot(df['date'], y_standardized, marker='o', linestyle='-')\n",
        "\n",
        "plt.title('2019-2023')  # 그래프 제목\n",
        "plt.xlabel('date')  # x 축 레이블\n",
        "plt.ylabel('volume')  # y 축 레이블\n",
        "\n",
        "plt.grid(True)  # 그리드 표시\n",
        "plt.show()  # 그래프 표시"
      ],
      "metadata": {
        "id": "4VXUaxO9C4TS"
      },
      "execution_count": null,
      "outputs": []
    },
    {
      "cell_type": "markdown",
      "source": [
        "## 2019"
      ],
      "metadata": {
        "id": "NPMjKmmTnLtF"
      }
    },
    {
      "cell_type": "code",
      "source": [
        "df_2019 = df[df['date'].dt.year == 2019]\n",
        "len(df_2019)"
      ],
      "metadata": {
        "id": "ap5skXkynPxn"
      },
      "execution_count": null,
      "outputs": []
    },
    {
      "cell_type": "code",
      "source": [
        "import matplotlib.pyplot as plt\n",
        "\n",
        "plt.figure(figsize=(10, 6))  # 그래프 크기 설정\n",
        "plt.plot(df_2019['date'], df_2019['거래량'], marker='o', linestyle='-')\n",
        "\n",
        "plt.title('2019')  # 그래프 제목\n",
        "plt.xlabel('date')  # x 축 레이블\n",
        "plt.ylabel('volume')  # y 축 레이블\n",
        "\n",
        "plt.grid(True)  # 그리드 표시\n",
        "plt.show()  # 그래프 표시"
      ],
      "metadata": {
        "id": "-UVXaCysnTlx"
      },
      "execution_count": null,
      "outputs": []
    },
    {
      "cell_type": "code",
      "source": [
        "# 2019-05-17 카카오 직원 스톡옵션 527,000주\n",
        "df_2019.nlargest(12, '거래량')[['date','거래량']]"
      ],
      "metadata": {
        "id": "ler55pGwnZM_"
      },
      "execution_count": null,
      "outputs": []
    },
    {
      "cell_type": "markdown",
      "source": [
        "## 2020"
      ],
      "metadata": {
        "id": "ntEoXVPznM_L"
      }
    },
    {
      "cell_type": "code",
      "source": [
        "df_2020 = df[df['date'].dt.year == 2020]\n",
        "len(df_2020)"
      ],
      "metadata": {
        "id": "IOD_u2h9oLbX"
      },
      "execution_count": null,
      "outputs": []
    },
    {
      "cell_type": "code",
      "source": [
        "import matplotlib.pyplot as plt\n",
        "\n",
        "plt.figure(figsize=(10, 6))  # 그래프 크기 설정\n",
        "plt.plot(df_2020['date'], df_2020['거래량'], marker='o', linestyle='-')\n",
        "\n",
        "plt.title('2020')  # 그래프 제목\n",
        "plt.xlabel('date')  # x 축 레이블\n",
        "plt.ylabel('volume')  # y 축 레이블\n",
        "\n",
        "plt.grid(True)  # 그리드 표시\n",
        "plt.show()  # 그래프 표시"
      ],
      "metadata": {
        "id": "FLHAhfrcoS-4"
      },
      "execution_count": null,
      "outputs": []
    },
    {
      "cell_type": "code",
      "source": [
        "df_2020.nlargest(12, '거래량')[['date','거래량']]"
      ],
      "metadata": {
        "id": "SnNuGpjFoZDc"
      },
      "execution_count": null,
      "outputs": []
    },
    {
      "cell_type": "markdown",
      "source": [
        "## 2021"
      ],
      "metadata": {
        "id": "r-Oti0A_HAdc"
      }
    },
    {
      "cell_type": "code",
      "source": [
        "df_2021 = df[df['date'].dt.year == 2021]\n",
        "len(df_2021)"
      ],
      "metadata": {
        "id": "wwIc21SEClos"
      },
      "execution_count": null,
      "outputs": []
    },
    {
      "cell_type": "code",
      "source": [
        "import matplotlib.pyplot as plt\n",
        "\n",
        "plt.figure(figsize=(10, 6))  # 그래프 크기 설정\n",
        "plt.plot(df_2021['date'], df_2021['거래량'], marker='o', linestyle='-')\n",
        "\n",
        "plt.title('2021')  # 그래프 제목\n",
        "plt.xlabel('date')  # x 축 레이블\n",
        "plt.ylabel('volume')  # y 축 레이블\n",
        "\n",
        "plt.grid(True)  # 그리드 표시\n",
        "plt.show()  # 그래프 표시"
      ],
      "metadata": {
        "id": "OXMjNftrHwLd"
      },
      "execution_count": null,
      "outputs": []
    },
    {
      "cell_type": "code",
      "source": [
        "df_2021.nlargest(12, '거래량')[['date','거래량']]"
      ],
      "metadata": {
        "id": "4gmK2EdwA83w"
      },
      "execution_count": null,
      "outputs": []
    },
    {
      "cell_type": "markdown",
      "source": [
        "## 2022"
      ],
      "metadata": {
        "id": "tbh_wQtiHC3l"
      }
    },
    {
      "cell_type": "code",
      "source": [
        "df_2022 = df[df['date'].dt.year == 2022]\n",
        "len(df_2022)"
      ],
      "metadata": {
        "id": "JNjp_ld6HIDf"
      },
      "execution_count": null,
      "outputs": []
    },
    {
      "cell_type": "code",
      "source": [
        "import matplotlib.pyplot as plt\n",
        "\n",
        "plt.figure(figsize=(10, 6))  # 그래프 크기 설정\n",
        "plt.plot(df_2022['date'], df_2022['거래량'], marker='o', linestyle='-')\n",
        "\n",
        "plt.title('2022')  # 그래프 제목\n",
        "plt.xlabel('date')  # x 축 레이블\n",
        "plt.ylabel('volume')  # y 축 레이블\n",
        "\n",
        "plt.grid(True)  # 그리드 표시\n",
        "plt.show()  # 그래프 표시"
      ],
      "metadata": {
        "id": "smIslbLcI7dy"
      },
      "execution_count": null,
      "outputs": []
    },
    {
      "cell_type": "code",
      "source": [
        "df_2022.nlargest(12, '거래량')[['date','거래량']]"
      ],
      "metadata": {
        "id": "vLj20_7oHK_6"
      },
      "execution_count": null,
      "outputs": []
    },
    {
      "cell_type": "markdown",
      "source": [
        "## 2023"
      ],
      "metadata": {
        "id": "UuoiPgEHHEZb"
      }
    },
    {
      "cell_type": "code",
      "source": [
        "df_2023 = df[df['date'].dt.year == 2023]\n",
        "len(df_2023)"
      ],
      "metadata": {
        "id": "UlFpbz9KHeyf"
      },
      "execution_count": null,
      "outputs": []
    },
    {
      "cell_type": "code",
      "source": [
        "import matplotlib.pyplot as plt\n",
        "\n",
        "plt.figure(figsize=(10, 6))  # 그래프 크기 설정\n",
        "plt.plot(df_2023['date'], df_2023['거래량'], marker='o', linestyle='-')\n",
        "\n",
        "plt.title('2023')  # 그래프 제목\n",
        "plt.xlabel('date')  # x 축 레이블\n",
        "plt.ylabel('volume')  # y 축 레이블\n",
        "\n",
        "plt.grid(True)  # 그리드 표시\n",
        "plt.show()  # 그래프 표시"
      ],
      "metadata": {
        "id": "md_0wHgJJHUu"
      },
      "execution_count": null,
      "outputs": []
    },
    {
      "cell_type": "code",
      "source": [
        "df_2023.nlargest(10, '거래량')[['date','거래량']]"
      ],
      "metadata": {
        "id": "hd2q-BiHHlAW"
      },
      "execution_count": null,
      "outputs": []
    },
    {
      "cell_type": "markdown",
      "source": [
        "# FVE 계산\n",
        "- FVE(Fraction of Volume Explained): 각 토픽으로 설명할 수 있는 뉴스 수의 비율"
      ],
      "metadata": {
        "id": "qDtZRsYEgSM3"
      }
    },
    {
      "cell_type": "code",
      "source": [],
      "metadata": {
        "id": "zeODY05gusVJ"
      },
      "execution_count": null,
      "outputs": []
    },
    {
      "cell_type": "markdown",
      "source": [
        "# FPE 계산"
      ],
      "metadata": {
        "id": "aYpa1hufgTnW"
      }
    },
    {
      "cell_type": "code",
      "source": [],
      "metadata": {
        "id": "tXixSxo2hXiK"
      },
      "execution_count": null,
      "outputs": []
    }
  ]
}